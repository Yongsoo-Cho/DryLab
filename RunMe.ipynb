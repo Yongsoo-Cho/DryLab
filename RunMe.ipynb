{
 "cells": [
  {
   "cell_type": "code",
   "execution_count": 28,
   "metadata": {},
   "outputs": [],
   "source": [
    "#Put AMP Sequences here in the list\n",
    "class AMP:\n",
    "    def __init__(self, name, sequence):\n",
    "        self.name = name\n",
    "        self.sequence = sequence\n",
    "amp_list = [\n",
    "    AMP(\"Citropin 1.1\", \"GLFDVIKKVASVIGGL\"),\n",
    "    AMP(\"CA(1-7)M(2-9)NH2\", \"KWKLFKKILKYL\"),\n",
    "    AMP(\"Tp0749_C\", \"AVPGDLQLALAALEQLEES\"),\n",
    "    AMP(\"d,l-K6L9 (Amp1D)\", \"KLKLLLLKLLLL\")\n",
    "]\n",
    "\n",
    "b = [amp.sequence for amp in amp_list]"
   ]
  },
  {
   "cell_type": "code",
   "execution_count": 29,
   "metadata": {},
   "outputs": [
    {
     "ename": "ModuleNotFoundError",
     "evalue": "No module named 'ipc'",
     "output_type": "error",
     "traceback": [
      "\u001b[0;31m---------------------------------------------------------------------------\u001b[0m",
      "\u001b[0;31mModuleNotFoundError\u001b[0m                       Traceback (most recent call last)",
      "File \u001b[0;32m~/Documents/Toxicity Calculator/amp-toxicity-predictor/toxicityCalculator.py:2\u001b[0m\n\u001b[1;32m      1\u001b[0m \u001b[38;5;28;01mimport\u001b[39;00m \u001b[38;5;21;01mdatetime\u001b[39;00m\n\u001b[0;32m----> 2\u001b[0m \u001b[38;5;28;01mfrom\u001b[39;00m \u001b[38;5;21;01misoelectric\u001b[39;00m \u001b[38;5;28;01mimport\u001b[39;00m ipc \u001b[38;5;66;03m#Requires Isoelectric Package\u001b[39;00m\n\u001b[1;32m      3\u001b[0m \u001b[38;5;28;01mimport\u001b[39;00m \u001b[38;5;21;01mmatplotlib\u001b[39;00m\n\u001b[1;32m      4\u001b[0m \u001b[38;5;28;01mimport\u001b[39;00m \u001b[38;5;21;01mmatplotlib\u001b[39;00m\u001b[38;5;21;01m.\u001b[39;00m\u001b[38;5;21;01mpyplot\u001b[39;00m \u001b[38;5;28;01mas\u001b[39;00m \u001b[38;5;21;01mplt\u001b[39;00m\n",
      "File \u001b[0;32m~/Documents/Toxicity Calculator/amp-toxicity-predictor/myenv/lib/python3.11/site-packages/isoelectric/__init__.py:2\u001b[0m\n\u001b[1;32m      1\u001b[0m name \u001b[38;5;241m=\u001b[39m \u001b[38;5;124m\"\u001b[39m\u001b[38;5;124mipc\u001b[39m\u001b[38;5;124m\"\u001b[39m\n\u001b[0;32m----> 2\u001b[0m \u001b[38;5;28;01mfrom\u001b[39;00m \u001b[38;5;21;01mipc\u001b[39;00m \u001b[38;5;28;01mimport\u001b[39;00m \u001b[38;5;241m*\u001b[39m\n",
      "\u001b[0;31mModuleNotFoundError\u001b[0m: No module named 'ipc'"
     ]
    },
    {
     "name": "stdout",
     "output_type": "stream",
     "text": [
      "sanity check\n"
     ]
    }
   ],
   "source": [
    "#Just run it\n",
    "%run -i toxicityCalculator \n",
    "print(\"sanity check\")"
   ]
  },
  {
   "cell_type": "code",
   "execution_count": 30,
   "metadata": {},
   "outputs": [
    {
     "name": "stdout",
     "output_type": "stream",
     "text": [
      "scikit-learn: Not installed\n",
      "numpy: Not installed\n",
      "jupyter: Version matches (1.0.0)\n",
      "jupyter-client: Version does not match (Installed: 8.6.1, Required: 5.3.4)\n",
      "jupyter-console: Version matches (6.0.0)\n",
      "jupyter-core: Version matches (4.6.1)\n",
      "isoelectric: Version matches (1.0)\n",
      "pandas: Not installed\n",
      "propy3: Version matches (1.0.0a2)\n"
     ]
    }
   ],
   "source": [
    "import importlib.metadata\n",
    "\n",
    "# Required versions\n",
    "required_versions = {\n",
    "    'scikit-learn': '0.22',\n",
    "    'numpy': '1.17.4',\n",
    "    'jupyter': '1.0.0',\n",
    "    'jupyter-client': '5.3.4',\n",
    "    'jupyter-console': '6.0.0',\n",
    "    'jupyter-core': '4.6.1',\n",
    "    'isoelectric': '1.0',\n",
    "    'pandas': '0.25.3',\n",
    "    'propy3': '1.0.0a2'\n",
    "}\n",
    "\n",
    "# Check versions\n",
    "for package, required_version in required_versions.items():\n",
    "    try:\n",
    "        installed_version = importlib.metadata.version(package)\n",
    "        if installed_version == required_version:\n",
    "            print(f\"{package}: Version matches ({installed_version})\")\n",
    "        else:\n",
    "            print(f\"{package}: Version does not match (Installed: {installed_version}, Required: {required_version})\")\n",
    "    except importlib.metadata.PackageNotFoundError:\n",
    "        print(f\"{package}: Not installed\")\n"
   ]
  }
 ],
 "metadata": {
  "kernelspec": {
   "display_name": "Python 3",
   "language": "python",
   "name": "python3"
  },
  "language_info": {
   "codemirror_mode": {
    "name": "ipython",
    "version": 3
   },
   "file_extension": ".py",
   "mimetype": "text/x-python",
   "name": "python",
   "nbconvert_exporter": "python",
   "pygments_lexer": "ipython3",
   "version": "3.11.1"
  }
 },
 "nbformat": 4,
 "nbformat_minor": 2
}
